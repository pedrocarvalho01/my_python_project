{
 "cells": [
  {
   "cell_type": "markdown",
   "id": "8703021b",
   "metadata": {},
   "source": [
    "## Dimensional Modeling Chapter 3\n",
    "## Retail Sales\n",
    "## Kimball's Data Warehouse Toolkit"
   ]
  },
  {
   "cell_type": "code",
   "execution_count": 1,
   "id": "6f9a5b56",
   "metadata": {},
   "outputs": [],
   "source": [
    "# first we need to understand the 4-step dimensional design process"
   ]
  },
  {
   "cell_type": "markdown",
   "id": "14a9a057",
   "metadata": {},
   "source": [
    "# step 1: select the business process\n",
    "\n",
    "If you are able to do proper business process (bp, hence forth) identification you can have a great start in creating a DW that can really work as a single-source of truth in your organization, and that is because organizational departaments is NOT the same as bp. By focusing on bp and not on functional department process you deliver more consistent information, with less or no duplicate of data.\n",
    "\n",
    "Therefore, the act of identifying correct business process (bp) is responsability of the BI team. So, make sure to listen close to your client to proper identify them. Here are the key points to help you identify bp.\n",
    "\n",
    "Business process (bp) are usually \"verbs\", actions, within the organization, such as \"better understand customer purchases as captured by the POS system\". \n",
    "BP are also tied to metrics and usually receive metrics, generate them and/or receive metric as input and generate some different metrics as output.\n",
    "BP are tipically support by your organization tools, like the sales system, which should have a transactional database behind it.\n",
    "\n",
    "Do not worry if you can't think of what is a BP now, keep following along. The work of understanding and identifying the correct BP comes with time and experience. Also, I must admit that, wihtin my 12 years of experience on BI I rarely worked on BP identification, many many times we join projects that are already started and everybody just want to create tables and reports with current transactional data."
   ]
  },
  {
   "cell_type": "markdown",
   "id": "705df4db",
   "metadata": {},
   "source": [
    "# step 2: declare the grain\n",
    "In the real world you usually don't have much access to Step 1, but you definetely have access from Step 2 and onwards.\n",
    "\n",
    "Grain is the most important aspect to understand in a dimensional model, because grain will define your facts, metrics and dimensions. It will even affect how your tables relate to each other, affecting directly the enablement, or not, of creating a star-schema out of it.\n",
    "\n",
    "The correct technical definition is \"declaring the grain means specifying exactly what an individual fact table row represents.\"\n",
    "\n",
    "Therefore, if someone asks \"how do you describe a row in that fact table?\" the grain should be enough answer.\n",
    "\n",
    "It is strongly recommended to define your grain in business terms. If you define your grain as a fact table primary key, or a list of dimensions and set this as the grain, it is highly likely that your grain will fail eventually. Here are some business terms for grain definition:\n",
    "\n",
    ". One row per scan of individual product on a customer's sales transaction\n",
    ". One row per bank account each month\n",
    ". One row per daily snapshot of the inventory levels for each item in a warehouse\n",
    ". One row per line item on a bill from a doctor\n",
    "\n",
    "Proper business definition of grain will later help with datamarts definition and proper star-schema creation. Failure on grain definition will create fact tables that keep being re-worked to add or remove dimensions and facts.\n",
    "\n",
    "If later in steps 3 or 4 you noticed that your grain is incorrect, review step 2 once more. Also, make sure that the all BI  teams and stakeholders aggree on the grain selected."
   ]
  },
  {
   "cell_type": "markdown",
   "id": "6451f801",
   "metadata": {},
   "source": [
    "# step 3: Identify the Dimensions\n",
    "\n",
    "How do business people describe the data resulting from business process?\n",
    "\n",
    "That question is answered by assessing, leveraging, dimensions.\n",
    "\n",
    "A fact table can contain many different facts and measures, so in order to slice and dice those measures, or metrics, you need all dimensions that the business can think of ( and also that the database has to offer, of course ).\n",
    "\n",
    "Dimensions are typically identified as the good old 5W1H that we can associate to an event in the fact table, being:\n",
    "\n",
    "who\n",
    "what\n",
    "where\n",
    "when\n",
    "why\n",
    "how\n",
    "\n",
    "Common dimensions: date or calendar, product, customer, employee, facility, etc."
   ]
  },
  {
   "cell_type": "markdown",
   "id": "868f8b87",
   "metadata": {},
   "source": [
    "# step 4: Identify the facts\n",
    "\n",
    "What is the process, the bp, measuring?\n",
    "\n",
    "The answer to that question is a fact.\n",
    "\n",
    "Here is the thing, as you start to answer that question you might find yourself with facts that do not respect your previous definied grain (on step 2), in that case you can re-work step 2 and also understand that, facts that clearly belong to different grains belong in different fact tables.\n",
    "\n",
    "Resist the temptation of modeling your DW based on your source data alone. Please, always consider Business Process and Business Terms when modeling a DW (data warehouse). Of course, you will have to talk to people, yeah, I know..."
   ]
  },
  {
   "cell_type": "code",
   "execution_count": null,
   "id": "260557c0",
   "metadata": {},
   "outputs": [],
   "source": [
    "testing version changes"
   ]
  },
  {
   "cell_type": "code",
   "execution_count": null,
   "id": "07418fb5",
   "metadata": {},
   "outputs": [],
   "source": []
  },
  {
   "cell_type": "code",
   "execution_count": null,
   "id": "cedaaac4",
   "metadata": {},
   "outputs": [],
   "source": []
  },
  {
   "cell_type": "code",
   "execution_count": null,
   "id": "c6ed892b",
   "metadata": {},
   "outputs": [],
   "source": []
  },
  {
   "cell_type": "code",
   "execution_count": null,
   "id": "6746b049",
   "metadata": {},
   "outputs": [],
   "source": []
  },
  {
   "cell_type": "code",
   "execution_count": null,
   "id": "9b532289",
   "metadata": {},
   "outputs": [],
   "source": []
  },
  {
   "cell_type": "code",
   "execution_count": null,
   "id": "dc4bc1e9",
   "metadata": {},
   "outputs": [],
   "source": []
  },
  {
   "cell_type": "code",
   "execution_count": null,
   "id": "c3e57132",
   "metadata": {},
   "outputs": [],
   "source": []
  },
  {
   "cell_type": "code",
   "execution_count": null,
   "id": "97905691",
   "metadata": {},
   "outputs": [],
   "source": []
  },
  {
   "cell_type": "code",
   "execution_count": null,
   "id": "1c097dc8",
   "metadata": {},
   "outputs": [],
   "source": []
  },
  {
   "cell_type": "code",
   "execution_count": null,
   "id": "4591d2eb",
   "metadata": {},
   "outputs": [],
   "source": []
  },
  {
   "cell_type": "code",
   "execution_count": null,
   "id": "952e2f65",
   "metadata": {},
   "outputs": [],
   "source": []
  },
  {
   "cell_type": "code",
   "execution_count": null,
   "id": "486ef045",
   "metadata": {},
   "outputs": [],
   "source": []
  }
 ],
 "metadata": {
  "kernelspec": {
   "display_name": "Python 3 (ipykernel)",
   "language": "python",
   "name": "python3"
  },
  "language_info": {
   "codemirror_mode": {
    "name": "ipython",
    "version": 3
   },
   "file_extension": ".py",
   "mimetype": "text/x-python",
   "name": "python",
   "nbconvert_exporter": "python",
   "pygments_lexer": "ipython3",
   "version": "3.11.5"
  }
 },
 "nbformat": 4,
 "nbformat_minor": 5
}
